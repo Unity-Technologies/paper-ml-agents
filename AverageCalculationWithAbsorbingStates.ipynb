{
  "nbformat": 4,
  "nbformat_minor": 0,
  "metadata": {
    "colab": {
      "name": "AverageCalculationWithAbsorbingStates.ipynb",
      "private_outputs": true,
      "provenance": [],
      "collapsed_sections": []
    },
    "kernelspec": {
      "name": "python3",
      "display_name": "Python 3"
    },
    "language_info": {
      "name": "python"
    }
  },
  "cells": [
    {
      "cell_type": "code",
      "metadata": {
        "id": "h6Dt29l2CGt3"
      },
      "source": [
        "try:\n",
        "  import mlagents\n",
        "  print(\"ml-agents already installed\")\n",
        "except ImportError:\n",
        "  !pip install -q mlagents==0.25.1\n",
        "  print(\"Installed ml-agents\")\n",
        "!pip install -q seaborn==0.9.1"
      ],
      "execution_count": null,
      "outputs": []
    },
    {
      "cell_type": "code",
      "metadata": {
        "id": "Nzk36CAE-qUy"
      },
      "source": [
        "import numpy as np\n",
        "import torch\n",
        "import random\n",
        "\n",
        "np.random.seed(1336)\n",
        "torch.manual_seed(1336)\n",
        "\n",
        "from mlagents.trainers.torch.layers import linear_layer#, LinearEncoder\n",
        "%matplotlib inline\n",
        "import matplotlib.pyplot as plt\n",
        "import seaborn as sns; sns.set(color_codes=True)\n",
        "\n",
        "from matplotlib import rcParams\n",
        "rcParams['font.family'] = 'serif'\n",
        "rcParams['font.serif'] = ['Times']\n",
        "import matplotlib as mpl\n",
        "mpl.rc('font', family='serif', serif='Times New Roman')\n",
        "mpl.style.use('classic')\n",
        "import pandas as pd"
      ],
      "execution_count": null,
      "outputs": []
    },
    {
      "cell_type": "code",
      "metadata": {
        "id": "uzfUFqD1TE5Y"
      },
      "source": [
        "\n"
      ],
      "execution_count": null,
      "outputs": []
    },
    {
      "cell_type": "code",
      "metadata": {
        "id": "y5sn1_co-znq"
      },
      "source": [
        "N_INPUT = 10\n",
        "_colors =[\"b\", \"r\", \"g\", \"y\"]\n",
        "# 0 and 1 are absorbing states\n",
        "# range between 0.4 and 0.6 for values\n",
        "# compute the average\n",
        "# run with 1, 2 and at most 2 absorbing state\n",
        "\n",
        "BATCH_SIZE = 500\n",
        "EPOCHS = 201\n",
        "\n",
        "absorbing_state = 0\n",
        "LOW = 0.25\n",
        "HIGH = 0.75\n",
        "LOG = True\n",
        "\n",
        "\n",
        "class Network(torch.nn.Module):\n",
        "    def __init__(self):\n",
        "      super(Network, self).__init__()\n",
        "      hidden_size = 32\n",
        "      self.dense1 = torch.nn.Linear(N_INPUT, hidden_size)\n",
        "      self.dense2 = torch.nn.Linear(hidden_size, hidden_size)\n",
        "      self.dense3 = torch.nn.Linear(hidden_size, 1)\n",
        "      self.relu = torch.nn.ReLU()\n",
        "    def forward(self, data):\n",
        "      h = self.dense1(data)\n",
        "      h = self.relu(h)\n",
        "      h = self.dense2(h)\n",
        "      h = self.relu(h)\n",
        "      return self.dense3(h)\n",
        "\n",
        "\n",
        "def generate_batch(batch, max_num_abs, abs_state, sample = False):\n",
        "  inputs = np.random.uniform(LOW, HIGH, (batch, N_INPUT))\n",
        "  inputs = np.float32(inputs)\n",
        "  #[numpy.random.shuffle(x) for x in a]\n",
        "  for b in range(batch):\n",
        "    if sample:\n",
        "      nnn = random.choice(range(max_num_abs))\n",
        "    else:\n",
        "      nnn = max_num_abs\n",
        "    for i in range(nnn):\n",
        "      inputs[b, i] = abs_state\n",
        "  [np.random.shuffle(x) for x in inputs]\n",
        "  n_abs = (inputs == abs_state).astype(int).sum(axis = 1, keepdims = True)\n",
        "  target = (np.sum(inputs, axis=1, keepdims = True) - abs_state * n_abs) / (N_INPUT - n_abs)\n",
        "  return inputs, target\n",
        "\n",
        "# generate_batch(3, 9, -1, True)"
      ],
      "execution_count": null,
      "outputs": []
    },
    {
      "cell_type": "code",
      "metadata": {
        "id": "pjhjGftyB91d"
      },
      "source": [
        "plt.figure(1, figsize=(5, 3), dpi=300)\n",
        "\n",
        "font_size = 10\n",
        "y = 2\n",
        "x = 2\n",
        "sns.set_style(\"white\")\n",
        "sns.set_style(\"ticks\", {'font.family':'serif', 'font.serif':'Times New Roman', 'lines.linewidth': 8})\n",
        "\n",
        "plt.title(\"Computation of Average with Absorbing States\", fontsize=font_size)\n",
        "if LOG:\n",
        "  plt.ylabel(\"Log Mean Squared Error\", fontsize=font_size)\n",
        "else:\n",
        "  plt.ylabel(\"Mean Squared Error\", fontsize=font_size)\n",
        "plt.xlabel(\"Epochs\", fontsize=font_size)\n",
        "\n",
        "\n",
        "np.random.seed(1336)\n",
        "torch.manual_seed(1336)\n",
        "# _c =  [\"blue\", \"green\", \"yellow\", \"m\", \"c\", \"orange\", \"red\", \"black\"]\n",
        "# _c = [\"blue\", \"orange\", \"green\", \"m\", \"red\", \"black\",\"c\", \"yellow\"]\n",
        "# _c= ['#1f77b4', '#ff7f0e',  '#d62728', '#9467bd','black', '#2ca02c', '#8c564b', '#e377c2', '#7f7f7f', '#bcbd22', '#17becf']\n",
        "_c = sns.color_palette(\"colorblind\")\n",
        "# _c[4] = \"black\"\n",
        "for num_absorb, color, sample in zip([0,2,4,6, 8], _c[:5], [False, True, True, True, True]):\n",
        "  dfs = []\n",
        "  for seed in range(20):\n",
        "    encoder = Network()\n",
        "\n",
        "    optimizer = torch.optim.Adam(\n",
        "            list(encoder.parameters()),\n",
        "            lr=0.001,\n",
        "        )\n",
        "  \n",
        "\n",
        "    if not sample:\n",
        "      condition_name = str(num_absorb) + \" absorbing states\" \n",
        "    else:\n",
        "      condition_name = \"0 to \" +str(num_absorb) + \" absorbing states\" \n",
        "\n",
        "    values = []\n",
        "    for e in range(EPOCHS):\n",
        "      data, targ = generate_batch(BATCH_SIZE, num_absorb, absorbing_state, sample)\n",
        "      data = torch.from_numpy(data)\n",
        "      targ = torch.from_numpy(targ)\n",
        "      pred = encoder(data) \n",
        "\n",
        "      loss = torch.mean((targ - pred) ** 2)\n",
        "      if e >= 0:\n",
        "        if LOG:\n",
        "          values.append(loss.log().item())\n",
        "        else:\n",
        "          values.append(loss.item())\n",
        "      optimizer.zero_grad()\n",
        "      loss.backward()\n",
        "      optimizer.step()\n",
        "    \n",
        "    df = pd.DataFrame({\"step\":range(len(values)), \"values\":values})\n",
        "    dfs.append(df)\n",
        "    # sns.tsplot(data=df[\"values\"] , color=color, condition=condition_name, ci=95, time=df.index.values)\n",
        "  sns.tsplot(data=[d[\"values\"] for d in dfs], color=color, condition=condition_name, ci=95, time=dfs[0].index.values)\n",
        "\n",
        "plt.legend(handlelength=2, fontsize=font_size, labelspacing=0.25, borderpad=0.25, markerscale=0.75, frameon=False)\n"
      ],
      "execution_count": null,
      "outputs": []
    },
    {
      "cell_type": "code",
      "metadata": {
        "id": "KrK5ROa4CVXx"
      },
      "source": [
        ""
      ],
      "execution_count": null,
      "outputs": []
    },
    {
      "cell_type": "code",
      "metadata": {
        "id": "OvrrHdF_g55s"
      },
      "source": [
        ""
      ],
      "execution_count": null,
      "outputs": []
    },
    {
      "cell_type": "code",
      "metadata": {
        "id": "vG2AlLFoazk2"
      },
      "source": [
        ""
      ],
      "execution_count": null,
      "outputs": []
    },
    {
      "cell_type": "code",
      "metadata": {
        "id": "9drO8Jc5br3y"
      },
      "source": [
        ""
      ],
      "execution_count": null,
      "outputs": []
    }
  ]
}